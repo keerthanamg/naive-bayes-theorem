{
  "nbformat": 4,
  "nbformat_minor": 0,
  "metadata": {
    "colab": {
      "provenance": [],
      "authorship_tag": "ABX9TyO57Ai/eng14NvNnAuSWZOF",
      "include_colab_link": true
    },
    "kernelspec": {
      "name": "python3",
      "display_name": "Python 3"
    },
    "language_info": {
      "name": "python"
    }
  },
  "cells": [
    {
      "cell_type": "markdown",
      "metadata": {
        "id": "view-in-github",
        "colab_type": "text"
      },
      "source": [
        "<a href=\"https://colab.research.google.com/github/keerthanamg/naive-bayes-theorem/blob/main/Naive_bayes_theorem.ipynb\" target=\"_parent\"><img src=\"https://colab.research.google.com/assets/colab-badge.svg\" alt=\"Open In Colab\"/></a>"
      ]
    },
    {
      "cell_type": "code",
      "execution_count": 1,
      "metadata": {
        "colab": {
          "base_uri": "https://localhost:8080/"
        },
        "id": "nlhxvUev7H2M",
        "outputId": "eca23839-c764-4b74-9415-3835e6343b02"
      },
      "outputs": [
        {
          "output_type": "stream",
          "name": "stdout",
          "text": [
            "['I enjoy watching sports on TV', 'sports']\n",
            "['Politics is important for our country', 'politics']\n",
            "['i love politics', 'politics']\n"
          ]
        }
      ],
      "source": [
        "from sklearn.feature_extraction.text import CountVectorizer\n",
        "from sklearn.naive_bayes import MultinomialNB\n",
        "\n",
        "# Example training data\n",
        "X_train = ['I love playing sports', 'Politics is my passion', 'Sports are fun', 'Politics is boring']\n",
        "y_train = ['sports', 'politics', 'sports', 'politics']\n",
        "\n",
        "# Initialize CountVectorizer to preprocess text and convert to numerical features\n",
        "vectorizer = CountVectorizer(stop_words='english')\n",
        "\n",
        "# Fit and transform training data into feature vectors\n",
        "X_train_counts = vectorizer.fit_transform(X_train)\n",
        "\n",
        "# Initialize MultinomialNB classifier and fit on training data\n",
        "clf = MultinomialNB()\n",
        "clf.fit(X_train_counts, y_train)\n",
        "\n",
        "# Example test data\n",
        "X_test = ['I enjoy watching sports on TV', 'Politics is important for our country', 'i love politics']\n",
        "\n",
        "# Transform test data into feature vectors using same vectorizer\n",
        "X_test_counts = vectorizer.transform(X_test)\n",
        "\n",
        "# Predict class labels for test data\n",
        "y_pred = clf.predict(X_test_counts)\n",
        "\n",
        "# Print predicted classes for test data\n",
        "output = []\n",
        "for i in range(len(X_test)):\n",
        "    output.append([X_test[i], y_pred[i]])\n",
        "\n",
        "for o in output:\n",
        "    print(o)\n",
        "\n"
      ]
    }
  ]
}